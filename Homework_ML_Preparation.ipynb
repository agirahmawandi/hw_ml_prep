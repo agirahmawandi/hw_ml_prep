{
 "cells": [
  {
   "cell_type": "markdown",
   "metadata": {
    "id": "hK3EETtCOwyM"
   },
   "source": [
    "## Homework - Machine Learning Preparation\n",
    "### Agi Rahmawandi <br> Batch 57\n",
    "\n"
   ]
  },
  {
   "cell_type": "code",
   "execution_count": 2,
   "metadata": {},
   "outputs": [
    {
     "name": "stdout",
     "output_type": "stream",
     "text": [
      "numpy version :  2.2.5\n",
      "pandas version :  2.2.3\n",
      "seaborn version :  0.13.2\n"
     ]
    }
   ],
   "source": [
    "import warnings\n",
    "warnings.filterwarnings('ignore')\n",
    "\n",
    "import numpy as np\n",
    "import pandas as pd\n",
    "import seaborn as sns\n",
    "import matplotlib.pyplot as plt\n",
    "%matplotlib inline\n",
    "\n",
    "\n",
    "print('numpy version : ',np.__version__)\n",
    "print('pandas version : ',pd.__version__)\n",
    "print('seaborn version : ',sns.__version__)"
   ]
  },
  {
   "cell_type": "code",
   "execution_count": 17,
   "metadata": {},
   "outputs": [],
   "source": [
    "sns.set(rc={'figure.figsize':(20.7,8.27)})\n",
    "sns.set_style(\"whitegrid\")\n",
    "sns.color_palette(\"dark\")\n",
    "plt.style.use(\"fivethirtyeight\")"
   ]
  },
  {
   "cell_type": "markdown",
   "metadata": {
    "id": "fW1vi-TeOw0n"
   },
   "source": [
    "\n",
    "**Product Classification**<br>\n",
    "**Deskripsi**<br>\n",
    "* Memprediksi apakah suatu produk eksklusif atau tidak berdasarkan fitur yang tersedia<br>\n"
   ]
  },
  {
   "cell_type": "markdown",
   "metadata": {},
   "source": [
    "### Load data"
   ]
  },
  {
   "cell_type": "code",
   "execution_count": 4,
   "metadata": {},
   "outputs": [],
   "source": [
    "df = pd.read_csv('./dataset/Product_Exclusive_Classification.csv')"
   ]
  },
  {
   "cell_type": "markdown",
   "metadata": {
    "id": "HfU73FIvOw0v"
   },
   "source": [
    "## 1. Descriptive Statistics (5 poin)\n",
    "Gunakan function info dan describe pada dataset final project kalian. Tuliskan hasil\n",
    "observasinya, seperti:<br>\n",
    "A. Apakah ada kolom dengan tipe data kurang sesuai, atau nama kolom dan isinya\n",
    "kurang sesuai?<br>\n",
    "B. Apakah ada kolom yang memiliki nilai kosong? Jika ada, apa saja?<br>\n",
    "C. Apakah ada kolom yang memiliki nilai summary agak aneh?<br>\n",
    "(min/mean/median/max/unique/top/freq)<br>\n",
    "* Untuk masing-masing jenis observasi, tuliskan juga"
   ]
  },
  {
   "cell_type": "code",
   "execution_count": 5,
   "metadata": {},
   "outputs": [
    {
     "name": "stdout",
     "output_type": "stream",
     "text": [
      "<class 'pandas.core.frame.DataFrame'>\n",
      "RangeIndex: 8000 entries, 0 to 7999\n",
      "Data columns (total 9 columns):\n",
      " #   Column             Non-Null Count  Dtype  \n",
      "---  ------             --------------  -----  \n",
      " 0   id                 8000 non-null   int64  \n",
      " 1   brand              8000 non-null   object \n",
      " 2   category           7987 non-null   object \n",
      " 3   rating             7905 non-null   float64\n",
      " 4   number_of_reviews  7991 non-null   float64\n",
      " 5   love               7966 non-null   float64\n",
      " 6   price              7992 non-null   float64\n",
      " 7   value_price        7983 non-null   float64\n",
      " 8   exclusive          8000 non-null   int64  \n",
      "dtypes: float64(5), int64(2), object(2)\n",
      "memory usage: 562.6+ KB\n"
     ]
    }
   ],
   "source": [
    "df.info()"
   ]
  },
  {
   "cell_type": "code",
   "execution_count": 11,
   "metadata": {},
   "outputs": [],
   "source": [
    "## pengelompokan berdasar jenis kolom\n",
    "obj = ['brand','category']\n",
    "numbs = ['id','rating','number_of_reviews','love','price','value_price']"
   ]
  },
  {
   "cell_type": "code",
   "execution_count": 13,
   "metadata": {},
   "outputs": [
    {
     "data": {
      "text/html": [
       "<div>\n",
       "<style scoped>\n",
       "    .dataframe tbody tr th:only-of-type {\n",
       "        vertical-align: middle;\n",
       "    }\n",
       "\n",
       "    .dataframe tbody tr th {\n",
       "        vertical-align: top;\n",
       "    }\n",
       "\n",
       "    .dataframe thead th {\n",
       "        text-align: right;\n",
       "    }\n",
       "</style>\n",
       "<table border=\"1\" class=\"dataframe\">\n",
       "  <thead>\n",
       "    <tr style=\"text-align: right;\">\n",
       "      <th></th>\n",
       "      <th>brand</th>\n",
       "      <th>category</th>\n",
       "    </tr>\n",
       "  </thead>\n",
       "  <tbody>\n",
       "    <tr>\n",
       "      <th>count</th>\n",
       "      <td>8000</td>\n",
       "      <td>7987</td>\n",
       "    </tr>\n",
       "    <tr>\n",
       "      <th>unique</th>\n",
       "      <td>310</td>\n",
       "      <td>142</td>\n",
       "    </tr>\n",
       "    <tr>\n",
       "      <th>top</th>\n",
       "      <td>SEPHORA COLLECTION</td>\n",
       "      <td>Perfume</td>\n",
       "    </tr>\n",
       "    <tr>\n",
       "      <th>freq</th>\n",
       "      <td>492</td>\n",
       "      <td>619</td>\n",
       "    </tr>\n",
       "  </tbody>\n",
       "</table>\n",
       "</div>"
      ],
      "text/plain": [
       "                     brand category\n",
       "count                 8000     7987\n",
       "unique                 310      142\n",
       "top     SEPHORA COLLECTION  Perfume\n",
       "freq                   492      619"
      ]
     },
     "execution_count": 13,
     "metadata": {},
     "output_type": "execute_result"
    }
   ],
   "source": [
    "df[obj].describe()"
   ]
  },
  {
   "cell_type": "code",
   "execution_count": 14,
   "metadata": {},
   "outputs": [
    {
     "data": {
      "text/html": [
       "<div>\n",
       "<style scoped>\n",
       "    .dataframe tbody tr th:only-of-type {\n",
       "        vertical-align: middle;\n",
       "    }\n",
       "\n",
       "    .dataframe tbody tr th {\n",
       "        vertical-align: top;\n",
       "    }\n",
       "\n",
       "    .dataframe thead th {\n",
       "        text-align: right;\n",
       "    }\n",
       "</style>\n",
       "<table border=\"1\" class=\"dataframe\">\n",
       "  <thead>\n",
       "    <tr style=\"text-align: right;\">\n",
       "      <th></th>\n",
       "      <th>id</th>\n",
       "      <th>rating</th>\n",
       "      <th>number_of_reviews</th>\n",
       "      <th>love</th>\n",
       "      <th>price</th>\n",
       "      <th>value_price</th>\n",
       "    </tr>\n",
       "  </thead>\n",
       "  <tbody>\n",
       "    <tr>\n",
       "      <th>count</th>\n",
       "      <td>8.000000e+03</td>\n",
       "      <td>7905.000000</td>\n",
       "      <td>7991.000000</td>\n",
       "      <td>7.966000e+03</td>\n",
       "      <td>7992.000000</td>\n",
       "      <td>7983.000000</td>\n",
       "    </tr>\n",
       "    <tr>\n",
       "      <th>mean</th>\n",
       "      <td>1.910231e+06</td>\n",
       "      <td>4.085136</td>\n",
       "      <td>303.574396</td>\n",
       "      <td>1.756396e+04</td>\n",
       "      <td>49.900935</td>\n",
       "      <td>50.983300</td>\n",
       "    </tr>\n",
       "    <tr>\n",
       "      <th>std</th>\n",
       "      <td>3.858353e+05</td>\n",
       "      <td>0.761069</td>\n",
       "      <td>931.724460</td>\n",
       "      <td>4.425339e+04</td>\n",
       "      <td>46.864764</td>\n",
       "      <td>48.473049</td>\n",
       "    </tr>\n",
       "    <tr>\n",
       "      <th>min</th>\n",
       "      <td>5.000000e+01</td>\n",
       "      <td>0.000000</td>\n",
       "      <td>0.000000</td>\n",
       "      <td>0.000000e+00</td>\n",
       "      <td>2.000000</td>\n",
       "      <td>2.000000</td>\n",
       "    </tr>\n",
       "    <tr>\n",
       "      <th>25%</th>\n",
       "      <td>1.773379e+06</td>\n",
       "      <td>4.000000</td>\n",
       "      <td>14.000000</td>\n",
       "      <td>2.000000e+03</td>\n",
       "      <td>24.000000</td>\n",
       "      <td>24.000000</td>\n",
       "    </tr>\n",
       "    <tr>\n",
       "      <th>50%</th>\n",
       "      <td>2.030360e+06</td>\n",
       "      <td>4.000000</td>\n",
       "      <td>56.000000</td>\n",
       "      <td>5.500000e+03</td>\n",
       "      <td>35.000000</td>\n",
       "      <td>35.000000</td>\n",
       "    </tr>\n",
       "    <tr>\n",
       "      <th>75%</th>\n",
       "      <td>2.185074e+06</td>\n",
       "      <td>4.500000</td>\n",
       "      <td>231.500000</td>\n",
       "      <td>1.530000e+04</td>\n",
       "      <td>59.000000</td>\n",
       "      <td>60.000000</td>\n",
       "    </tr>\n",
       "    <tr>\n",
       "      <th>max</th>\n",
       "      <td>2.293801e+06</td>\n",
       "      <td>5.000000</td>\n",
       "      <td>19000.000000</td>\n",
       "      <td>1.300000e+06</td>\n",
       "      <td>549.000000</td>\n",
       "      <td>549.000000</td>\n",
       "    </tr>\n",
       "  </tbody>\n",
       "</table>\n",
       "</div>"
      ],
      "text/plain": [
       "                 id       rating  number_of_reviews          love  \\\n",
       "count  8.000000e+03  7905.000000        7991.000000  7.966000e+03   \n",
       "mean   1.910231e+06     4.085136         303.574396  1.756396e+04   \n",
       "std    3.858353e+05     0.761069         931.724460  4.425339e+04   \n",
       "min    5.000000e+01     0.000000           0.000000  0.000000e+00   \n",
       "25%    1.773379e+06     4.000000          14.000000  2.000000e+03   \n",
       "50%    2.030360e+06     4.000000          56.000000  5.500000e+03   \n",
       "75%    2.185074e+06     4.500000         231.500000  1.530000e+04   \n",
       "max    2.293801e+06     5.000000       19000.000000  1.300000e+06   \n",
       "\n",
       "             price  value_price  \n",
       "count  7992.000000  7983.000000  \n",
       "mean     49.900935    50.983300  \n",
       "std      46.864764    48.473049  \n",
       "min       2.000000     2.000000  \n",
       "25%      24.000000    24.000000  \n",
       "50%      35.000000    35.000000  \n",
       "75%      59.000000    60.000000  \n",
       "max     549.000000   549.000000  "
      ]
     },
     "execution_count": 14,
     "metadata": {},
     "output_type": "execute_result"
    }
   ],
   "source": [
    "df[numbs].describe()"
   ]
  },
  {
   "cell_type": "code",
   "execution_count": 8,
   "metadata": {},
   "outputs": [
    {
     "data": {
      "text/plain": [
       "id                    0\n",
       "brand                 0\n",
       "category             13\n",
       "rating               95\n",
       "number_of_reviews     9\n",
       "love                 34\n",
       "price                 8\n",
       "value_price          17\n",
       "exclusive             0\n",
       "dtype: int64"
      ]
     },
     "execution_count": 8,
     "metadata": {},
     "output_type": "execute_result"
    }
   ],
   "source": [
    "df.isna().sum()"
   ]
  },
  {
   "cell_type": "code",
   "execution_count": 15,
   "metadata": {},
   "outputs": [
    {
     "data": {
      "text/html": [
       "<div>\n",
       "<style scoped>\n",
       "    .dataframe tbody tr th:only-of-type {\n",
       "        vertical-align: middle;\n",
       "    }\n",
       "\n",
       "    .dataframe tbody tr th {\n",
       "        vertical-align: top;\n",
       "    }\n",
       "\n",
       "    .dataframe thead th {\n",
       "        text-align: right;\n",
       "    }\n",
       "</style>\n",
       "<table border=\"1\" class=\"dataframe\">\n",
       "  <thead>\n",
       "    <tr style=\"text-align: right;\">\n",
       "      <th></th>\n",
       "      <th>id</th>\n",
       "      <th>brand</th>\n",
       "      <th>category</th>\n",
       "      <th>rating</th>\n",
       "      <th>number_of_reviews</th>\n",
       "      <th>love</th>\n",
       "      <th>price</th>\n",
       "      <th>value_price</th>\n",
       "      <th>exclusive</th>\n",
       "    </tr>\n",
       "  </thead>\n",
       "  <tbody>\n",
       "    <tr>\n",
       "      <th>4644</th>\n",
       "      <td>2077485</td>\n",
       "      <td>Kiehl's Since 1851</td>\n",
       "      <td>Skincare</td>\n",
       "      <td>3.0</td>\n",
       "      <td>5.0</td>\n",
       "      <td>2600.0</td>\n",
       "      <td>13.0</td>\n",
       "      <td>13.0</td>\n",
       "      <td>0</td>\n",
       "    </tr>\n",
       "    <tr>\n",
       "      <th>7045</th>\n",
       "      <td>2242105</td>\n",
       "      <td>MILK MAKEUP</td>\n",
       "      <td>Foundation</td>\n",
       "      <td>4.0</td>\n",
       "      <td>924.0</td>\n",
       "      <td>26200.0</td>\n",
       "      <td>36.0</td>\n",
       "      <td>36.0</td>\n",
       "      <td>1</td>\n",
       "    </tr>\n",
       "    <tr>\n",
       "      <th>4738</th>\n",
       "      <td>2082766</td>\n",
       "      <td>SEPHORA COLLECTION</td>\n",
       "      <td>Moisturizers</td>\n",
       "      <td>3.5</td>\n",
       "      <td>19.0</td>\n",
       "      <td>1800.0</td>\n",
       "      <td>17.0</td>\n",
       "      <td>17.0</td>\n",
       "      <td>1</td>\n",
       "    </tr>\n",
       "    <tr>\n",
       "      <th>5372</th>\n",
       "      <td>2132546</td>\n",
       "      <td>Charlotte Tilbury</td>\n",
       "      <td>Highlighter</td>\n",
       "      <td>4.0</td>\n",
       "      <td>123.0</td>\n",
       "      <td>31400.0</td>\n",
       "      <td>58.0</td>\n",
       "      <td>58.0</td>\n",
       "      <td>0</td>\n",
       "    </tr>\n",
       "    <tr>\n",
       "      <th>6778</th>\n",
       "      <td>2224053</td>\n",
       "      <td>IT Cosmetics</td>\n",
       "      <td>Mini Size</td>\n",
       "      <td>3.5</td>\n",
       "      <td>46.0</td>\n",
       "      <td>6400.0</td>\n",
       "      <td>12.0</td>\n",
       "      <td>12.0</td>\n",
       "      <td>0</td>\n",
       "    </tr>\n",
       "  </tbody>\n",
       "</table>\n",
       "</div>"
      ],
      "text/plain": [
       "           id               brand      category  rating  number_of_reviews  \\\n",
       "4644  2077485  Kiehl's Since 1851      Skincare     3.0                5.0   \n",
       "7045  2242105         MILK MAKEUP    Foundation     4.0              924.0   \n",
       "4738  2082766  SEPHORA COLLECTION  Moisturizers     3.5               19.0   \n",
       "5372  2132546   Charlotte Tilbury   Highlighter     4.0              123.0   \n",
       "6778  2224053        IT Cosmetics     Mini Size     3.5               46.0   \n",
       "\n",
       "         love  price  value_price  exclusive  \n",
       "4644   2600.0   13.0         13.0          0  \n",
       "7045  26200.0   36.0         36.0          1  \n",
       "4738   1800.0   17.0         17.0          1  \n",
       "5372  31400.0   58.0         58.0          0  \n",
       "6778   6400.0   12.0         12.0          0  "
      ]
     },
     "execution_count": 15,
     "metadata": {},
     "output_type": "execute_result"
    }
   ],
   "source": [
    "df.sample(5)"
   ]
  },
  {
   "cell_type": "markdown",
   "metadata": {},
   "source": [
    "A. Type data dan nama kolom rata-rata sudah sesuai, hanya saja akan lebih baik untuk id di ubah ke obj<br>\n",
    "B. kolom yang memiliki nilai kosong adalah category,rating, number_of_reviews,love,price,value_price<br>\n",
    "C. dikolom number_of_reviews nilai mean dan median terlihat cukup jauh perbedaan nya **mean 303.57**, **median 56** serta **standar deviasinya** juga rentangnya cukup jauh dari mean yakni **931.7**\n",
    "\n",
    "https://www.kaggle.com/code/mohammadfikri/product-exclusive-classification-roc-auc-87/notebook"
   ]
  },
  {
   "cell_type": "markdown",
   "metadata": {
    "id": "eMxbzb8FOw0_"
   },
   "source": [
    "# Exploratory Data Analysis (EDA)"
   ]
  },
  {
   "cell_type": "markdown",
   "metadata": {
    "id": "BbX2vQxfOw0_"
   },
   "source": [
    "## Pendekatan Numerik (10 Poin)"
   ]
  },
  {
   "cell_type": "markdown",
   "metadata": {
    "id": "CZnpTIubOw1A"
   },
   "source": [
    "## Pendekatan Grafis"
   ]
  },
  {
   "cell_type": "markdown",
   "metadata": {},
   "source": [
    "## 2. Univariate Analysis\n",
    "Gunakan visualisasi untuk melihat distribusi masing-masing kolom (feature maupun\n",
    "target). <br>Tuliskan hasil observasinya, misalnya jika ada suatu kolom yang distribusinya\n",
    "menarik (misal skewed, bimodal, ada outlier, ada nilai yang mendominasi, kategorinya\n",
    "terlalu banyak, dsb).<br> Jelaskan juga apa yang harus di-follow up saat data pre-processing."
   ]
  },
  {
   "cell_type": "code",
   "execution_count": 24,
   "metadata": {},
   "outputs": [
    {
     "ename": "TypeError",
     "evalue": "'bool' object is not iterable",
     "output_type": "error",
     "traceback": [
      "\u001b[31m---------------------------------------------------------------------------\u001b[39m",
      "\u001b[31mTypeError\u001b[39m                                 Traceback (most recent call last)",
      "\u001b[36mCell\u001b[39m\u001b[36m \u001b[39m\u001b[32mIn[24]\u001b[39m\u001b[32m, line 1\u001b[39m\n\u001b[32m----> \u001b[39m\u001b[32m1\u001b[39m \u001b[38;5;28;01mfor\u001b[39;00m col \u001b[38;5;129;01min\u001b[39;00m \u001b[38;5;28mrange\u001b[39m \u001b[38;5;129;01min\u001b[39;00m obj:\n\u001b[32m      2\u001b[39m     \u001b[38;5;28mprint\u001b[39m(\u001b[33mf\u001b[39m\u001b[33m'''\u001b[39m\u001b[33mValue count kolom \u001b[39m\u001b[38;5;132;01m{\u001b[39;00mcol\u001b[38;5;132;01m}\u001b[39;00m\u001b[33m:\u001b[39m\u001b[33m'''\u001b[39m)\n\u001b[32m      3\u001b[39m     \u001b[38;5;28mprint\u001b[39m(df[col].value_counts())\n",
      "\u001b[31mTypeError\u001b[39m: 'bool' object is not iterable"
     ]
    }
   ],
   "source": [
    "for col in range in obj:\n",
    "    print(f'''Value count kolom {col}:''')\n",
    "    print(df[col].value_counts())\n",
    "    prit()"
   ]
  },
  {
   "cell_type": "code",
   "execution_count": 31,
   "metadata": {},
   "outputs": [],
   "source": [
    "for i in range(0,len(numbs)):\n",
    "    plt.subplot(1,len(numbs),i+1)\n",
    "    sns.boxplot(y=df[numbs[i]],color='gray',orient='v')\n",
    "    plt.tight_layout()"
   ]
  },
  {
   "cell_type": "code",
   "execution_count": 32,
   "metadata": {},
   "outputs": [],
   "source": [
    "for i in range(0, len(numbs)):\n",
    "    plt.subplot(1, len(numbs), i+1)\n",
    "    sns.violinplot(y=df[numbs[i]], color='gray', orient='v')\n",
    "    plt.tight_layout()"
   ]
  },
  {
   "cell_type": "markdown",
   "metadata": {
    "id": "luEHnBBiOw1C"
   },
   "source": [
    "## 3. Multivariate Analysis (15 poin)\n",
    "Lakukan multivariate analysis (seperti correlation heatmap dan category plots, sesuai yang\n",
    "diajarkan di kelas). Tuliskan hasil observasinya, seperti: <br>\n",
    "A. Bagaimana korelasi antara masing-masing feature dan label. Kira-kira feature mana\n",
    "saja yang paling relevan dan harus dipertahankan?<br>\n",
    "B. Bagaimana korelasi antar-feature, apakah ada pola yang menarik? Apa yang perlu\n",
    "dilakukan terhadap feature itu?<br>\n",
    "* Tuliskan juga jika memang tidak ada feature yang saling berkorelasi"
   ]
  },
  {
   "cell_type": "markdown",
   "metadata": {
    "id": "fv7U_-DUOw1D"
   },
   "source": [
    "## Insight (20 Poin)\n",
    "\n",
    "Apa saja insight yang kamu temukan dari hasil-hasil analisis di atas?"
   ]
  },
  {
   "cell_type": "markdown",
   "metadata": {
    "id": "1RFLV4gKOw1E"
   },
   "source": [
    "## 4. Data Cleansing (40 poin)\n",
    "Lakukan pembersihan data, sesuai yang diajarkan di kelas, seperti:<br>\n",
    "A. Handle missing values<br>\n",
    "B. Handle duplicate data<br>\n",
    "C. Handle outliers<br>\n",
    "D. Feature transformation<br>\n",
    "E. Feature encoding<br>\n",
    "F. Handle class imbalance<br>\n",
    "Di laporan homework, tuliskan apa saja yang telah dilakukan dan metode yang digunakan.<br>\n",
    "* Tetap tuliskan jika memang ada tidak yang perlu di-handle (contoh: “Tidak perlu feature\n",
    "encoding karena semua feature sudah numerical” atau “Outlier tidak di-handle karena akan\n",
    "fokus menggunakan model yang robust terhadap outlier”)."
   ]
  },
  {
   "cell_type": "markdown",
   "metadata": {
    "id": "lSQR507POw1E"
   },
   "source": [
    "### A. Missing Value "
   ]
  },
  {
   "cell_type": "markdown",
   "metadata": {
    "id": "QSjr8wLMOw1F"
   },
   "source": [
    "### B. Duplicate Values \n"
   ]
  },
  {
   "cell_type": "markdown",
   "metadata": {
    "id": "rMo1QkcoOw1F"
   },
   "source": [
    "### C. Outliers "
   ]
  },
  {
   "cell_type": "markdown",
   "metadata": {
    "id": "0ZnZ0gZiOw1G"
   },
   "source": [
    "### D.Feature transformation\n"
   ]
  },
  {
   "cell_type": "markdown",
   "metadata": {
    "id": "vOA72wb2Ow1G"
   },
   "source": [
    "### E. Feature encoding"
   ]
  },
  {
   "cell_type": "markdown",
   "metadata": {
    "id": "xFnEo_RBOw1H"
   },
   "source": [
    "### F. Handle class imbalance"
   ]
  },
  {
   "cell_type": "markdown",
   "metadata": {
    "id": "-H74viLWOw1H"
   },
   "source": [
    "# 5. Feature Engineering (30 poin)\n",
    "Cek feature yang ada sekarang, lalu lakukan:<br>\n",
    "A. Feature selection (membuang feature yang kurang relevan atau redundan)<br>\n",
    "B. Feature extraction (membuat feature baru dari feature yang sudah ada)<br>\n",
    "C. Tuliskan minimal 4 feature tambahan (selain yang sudah tersedia di dataset) yang\n",
    "mungkin akan sangat membantu membuat performansi model semakin bagus (ini hanya\n",
    "ide saja, untuk menguji kreativitas teman-teman, tidak perlu benar-benar dicari datanya\n",
    "dan tidak perlu diimplementasikan)<br>\n",
    "* Untuk 5A & 5B, tetap tuliskan jika memang tidak bisa dilakukan (contoh: “Semua feature\n",
    "digunakan untuk modelling (tidak ada yang dihapus), karena semua feature relevan”)<br>"
   ]
  },
  {
   "cell_type": "markdown",
   "metadata": {},
   "source": [
    "### A. Feature selection"
   ]
  },
  {
   "cell_type": "markdown",
   "metadata": {},
   "source": [
    "### B. Feature extraction"
   ]
  },
  {
   "cell_type": "markdown",
   "metadata": {},
   "source": [
    "### C. feature tambahan"
   ]
  }
 ],
 "metadata": {
  "colab": {
   "collapsed_sections": [],
   "name": "Homework_ML_Preparation.ipynb",
   "provenance": []
  },
  "kernelspec": {
   "display_name": "latihan_env",
   "language": "python",
   "name": "python3"
  },
  "language_info": {
   "codemirror_mode": {
    "name": "ipython",
    "version": 3
   },
   "file_extension": ".py",
   "mimetype": "text/x-python",
   "name": "python",
   "nbconvert_exporter": "python",
   "pygments_lexer": "ipython3",
   "version": "3.13.2"
  },
  "toc": {
   "base_numbering": 1,
   "nav_menu": {},
   "number_sections": true,
   "sideBar": true,
   "skip_h1_title": false,
   "title_cell": "Table of Contents",
   "title_sidebar": "Contents",
   "toc_cell": false,
   "toc_position": {},
   "toc_section_display": true,
   "toc_window_display": true
  },
  "varInspector": {
   "cols": {
    "lenName": 16,
    "lenType": 16,
    "lenVar": 40
   },
   "kernels_config": {
    "python": {
     "delete_cmd_postfix": "",
     "delete_cmd_prefix": "del ",
     "library": "var_list.py",
     "varRefreshCmd": "print(var_dic_list())"
    },
    "r": {
     "delete_cmd_postfix": ") ",
     "delete_cmd_prefix": "rm(",
     "library": "var_list.r",
     "varRefreshCmd": "cat(var_dic_list()) "
    }
   },
   "types_to_exclude": [
    "module",
    "function",
    "builtin_function_or_method",
    "instance",
    "_Feature"
   ],
   "window_display": false
  }
 },
 "nbformat": 4,
 "nbformat_minor": 0
}
